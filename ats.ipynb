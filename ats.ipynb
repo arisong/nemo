{
 "cells": [
  {
   "attachments": {},
   "cell_type": "markdown",
   "metadata": {},
   "source": [
    "# Setup"
   ]
  },
  {
   "cell_type": "code",
   "execution_count": null,
   "metadata": {},
   "outputs": [],
   "source": [
    "import json\n",
    "import pandas as pd\n",
    "import numpy as np\n",
    "from ats import preprocess, compress, summarise\n",
    "import datetime"
   ]
  },
  {
   "attachments": {},
   "cell_type": "markdown",
   "metadata": {},
   "source": [
    "# Read data"
   ]
  },
  {
   "cell_type": "code",
   "execution_count": null,
   "metadata": {},
   "outputs": [],
   "source": [
    "sample_dataset = pd.read_csv('./data_input/ats_sample_dataset.csv')\n",
    "\n",
    "# concatenate articles in list together\n",
    "concat_doc_list = []\n",
    "for event in sample_dataset.index:\n",
    "    concat_doc_list.append(' '.join(eval(sample_dataset['split_doc'][event])))\n",
    "sample_dataset.insert(len(sample_dataset.columns), 'concat_doc', concat_doc_list)"
   ]
  },
  {
   "cell_type": "code",
   "execution_count": null,
   "metadata": {},
   "outputs": [],
   "source": [
    "sample_dataset = sample_dataset[0:2]"
   ]
  },
  {
   "attachments": {},
   "cell_type": "markdown",
   "metadata": {},
   "source": [
    "# Summarise"
   ]
  },
  {
   "cell_type": "code",
   "execution_count": null,
   "metadata": {},
   "outputs": [],
   "source": [
    "time_start = datetime.datetime.now()\n",
    "\n",
    "sample_dataset['new_summary'] = sample_dataset['concat_doc'].copy()\n",
    "sample_dataset['new_summary'] = sample_dataset['new_summary'].apply(preprocess.clean_text)\n",
    "sample_dataset['new_summary'] = sample_dataset['new_summary'].apply(compress.compression_bert_kmeans)\n",
    "sample_dataset['new_summary'] = sample_dataset.apply(lambda x: summarise.bart(text=x['new_summary']), axis=1)\n",
    "\n",
    "time_end = datetime.datetime.now()\n",
    "duration_new_per_case = (time_end - time_start) / len(sample_dataset)"
   ]
  },
  {
   "cell_type": "code",
   "execution_count": null,
   "metadata": {},
   "outputs": [],
   "source": [
    "sample_dataset['new_summary']"
   ]
  }
 ],
 "metadata": {
  "kernelspec": {
   "display_name": ".venv_nemo",
   "language": "python",
   "name": "python3"
  },
  "language_info": {
   "codemirror_mode": {
    "name": "ipython",
    "version": 3
   },
   "file_extension": ".py",
   "mimetype": "text/x-python",
   "name": "python",
   "nbconvert_exporter": "python",
   "pygments_lexer": "ipython3",
   "version": "3.9.7"
  },
  "orig_nbformat": 4,
  "vscode": {
   "interpreter": {
    "hash": "302a08526cdf43617c9938553c174073cc812a04aff7c4066b6f21eddd79e160"
   }
  }
 },
 "nbformat": 4,
 "nbformat_minor": 2
}
