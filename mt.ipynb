{
 "cells": [
  {
   "cell_type": "code",
   "execution_count": null,
   "metadata": {},
   "outputs": [],
   "source": [
    "from easynmt import EasyNMT # https://github.com/UKPLab/EasyNMT"
   ]
  },
  {
   "cell_type": "code",
   "execution_count": null,
   "metadata": {},
   "outputs": [],
   "source": [
    "def translate(text, model, source_lang, target_lang):\n",
    "    '''\n",
    "    possible models: 'opus-mt', 'mbart50_m2m', 'm2m_100_1.2B'\n",
    "    if following past evaluation study, the better models for each language are so follows:\n",
    "        'opus-mt': es, fr, de, sv, tl, vi\n",
    "        'mbart50_m2m': ar, ru, hi, ja\n",
    "        'm2m_100_1.2B': ko, pt\n",
    "    '''\n",
    "    model = EasyNMT(model)\n",
    "    translation = model.translate(text, source_lang=source_lang, target_lang=target_lang)\n",
    "    return translation"
   ]
  },
  {
   "cell_type": "code",
   "execution_count": null,
   "metadata": {},
   "outputs": [],
   "source": [
    "# sample data\n",
    "mt_dict = {'ar': ['اني مديون له.', 'I owe him a debt.'],\n",
    "           'de': ['Sicherheitslücke durch XML chain: 1', 'Vulnerability caused by XML chain: 1'],\n",
    "           'es': ['Crear una tienda virtual Shopify ($250-750 USD)', 'Website Development ($250-750 USD)'],\n",
    "           'fr': ['Vous pouvez trouver ici les hôtels de Zurichsitués près de Zurich-Kloten.', 'Here you can find hotels in Zurich located near Zurich-Kloten.'],\n",
    "           'hi': ['राजनीतिज्ञों के पास जो कार्य करना चाहिए, वह करने कि अनुमति नहीं है .', 'politicians do not have permission to do what needs to be done.'],\n",
    "           'ja': ['九州南部は平年並みの5/31(金)頃に梅雨入り。', 'The rainy season began in the southern area of Kyushu around May.31 (Fri) as normal.'],\n",
    "           'ko': ['토론에 참여한 사람들은 법 집행과 국가 안전보장에 대한 우려를 표명해야 할 필요성을 진지하게 받아 들이고 있습니다.', 'Those involved in the discussions do take seriously the need to address concerns of law enforcement and national security.'],\n",
    "           'pt': ['Hugo Chávez já não está mais conosco.', 'Hugo Chávez is no more.'],\n",
    "           'ru': ['О: Насколько мы знаем, ответ опасен для вас.', 'A: As we know, answer is dangerous.'],\n",
    "           'sv': ['Det bästa med Tafuna Klicka här för att se fler boenden nära populära sevärdheter i Tafuna', 'The Best of Tafuna Click here to see more properties near popular landmarks in Tafuna'],\n",
    "           'tl': ['Dahil ang pulis hindi papayagan ang paglaki mga system sa lugar, ang mga protesters ay nagkaroon na gamitin ang tinatawag nila ang \"mikropono ng mga tao\" upang matiyak na ang mga tao sa likod ay maaaring marinig kung ano ang sinasabi West.', 'Because police would not allow amplification systems in the area, the protesters had to use what they call the “people’s microphone” to make sure people in the back could hear what West was saying.'],\n",
    "           'vi': ['Khi tôi còn nhỏ , Tôi nghĩ rằng BắcTriều Tiên là đất nước tốt nhất trên thế giới và tôi thường hát bài &quot; Chúng ta chẳng có gì phải ghen tị .', 'When I was little , I thought my country was the best on the planet , and I grew up singing a song called &quot; Nothing To Envy .']\n",
    "          }"
   ]
  },
  {
   "cell_type": "code",
   "execution_count": null,
   "metadata": {},
   "outputs": [],
   "source": [
    "translate(mt_dict['vi'][0], 'opus-mt', 'vi', 'en')"
   ]
  }
 ],
 "metadata": {
  "kernelspec": {
   "display_name": ".venv_nemo",
   "language": "python",
   "name": "python3"
  },
  "language_info": {
   "codemirror_mode": {
    "name": "ipython",
    "version": 3
   },
   "file_extension": ".py",
   "mimetype": "text/x-python",
   "name": "python",
   "nbconvert_exporter": "python",
   "pygments_lexer": "ipython3",
   "version": "3.9.7"
  },
  "orig_nbformat": 4,
  "vscode": {
   "interpreter": {
    "hash": "302a08526cdf43617c9938553c174073cc812a04aff7c4066b6f21eddd79e160"
   }
  }
 },
 "nbformat": 4,
 "nbformat_minor": 2
}
